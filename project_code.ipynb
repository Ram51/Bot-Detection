{
 "cells": [
  {
   "cell_type": "markdown",
   "metadata": {},
   "source": [
    "# Importing Data"
   ]
  },
  {
   "cell_type": "code",
   "execution_count": 1,
   "metadata": {},
   "outputs": [],
   "source": [
    "import pandas as pd\n",
    "import numpy as np\n",
    "import matplotlib.pyplot as plt\n",
    "import warnings\n",
    "warnings.filterwarnings('ignore')\n",
    "import csv\n",
    "import datetime\n",
    "import time\n",
    "from sklearn.model_selection import GridSearchCV\n",
    "from sklearn.naive_bayes import MultinomialNB\n",
    "from sklearn.preprocessing import MinMaxScaler"
   ]
  },
  {
   "cell_type": "code",
   "execution_count": 2,
   "metadata": {},
   "outputs": [],
   "source": [
    "data_set=pd.read_csv('tweets.csv',parse_dates=True)"
   ]
  },
  {
   "cell_type": "code",
   "execution_count": 3,
   "metadata": {},
   "outputs": [
    {
     "data": {
      "text/html": [
       "<div>\n",
       "<style scoped>\n",
       "    .dataframe tbody tr th:only-of-type {\n",
       "        vertical-align: middle;\n",
       "    }\n",
       "\n",
       "    .dataframe tbody tr th {\n",
       "        vertical-align: top;\n",
       "    }\n",
       "\n",
       "    .dataframe thead th {\n",
       "        text-align: right;\n",
       "    }\n",
       "</style>\n",
       "<table border=\"1\" class=\"dataframe\">\n",
       "  <thead>\n",
       "    <tr style=\"text-align: right;\">\n",
       "      <th></th>\n",
       "      <th>id</th>\n",
       "      <th>text</th>\n",
       "      <th>source</th>\n",
       "      <th>user_id</th>\n",
       "      <th>truncated</th>\n",
       "      <th>in_reply_to_status_id</th>\n",
       "      <th>in_reply_to_user_id</th>\n",
       "      <th>in_reply_to_screen_name</th>\n",
       "      <th>retweeted_status_id</th>\n",
       "      <th>geo</th>\n",
       "      <th>...</th>\n",
       "      <th>favorited</th>\n",
       "      <th>retweeted</th>\n",
       "      <th>possibly_sensitive</th>\n",
       "      <th>num_hashtags</th>\n",
       "      <th>num_urls</th>\n",
       "      <th>num_mentions</th>\n",
       "      <th>created_at</th>\n",
       "      <th>timestamp</th>\n",
       "      <th>crawled_at</th>\n",
       "      <th>updated</th>\n",
       "    </tr>\n",
       "  </thead>\n",
       "  <tbody>\n",
       "    <tr>\n",
       "      <th>0</th>\n",
       "      <td>594073273480130560</td>\n",
       "      <td>How Randolph Hodgson and Neals Yard Dairy gave...</td>\n",
       "      <td>&lt;a href=\"http://www.apple.com\" rel=\"nofollow\"&gt;...</td>\n",
       "      <td>887281</td>\n",
       "      <td>NaN</td>\n",
       "      <td>0</td>\n",
       "      <td>0</td>\n",
       "      <td>NaN</td>\n",
       "      <td>0</td>\n",
       "      <td>NaN</td>\n",
       "      <td>...</td>\n",
       "      <td>NaN</td>\n",
       "      <td>NaN</td>\n",
       "      <td>NaN</td>\n",
       "      <td>0</td>\n",
       "      <td>1</td>\n",
       "      <td>0</td>\n",
       "      <td>Fri May 01 09:38:00 +0000 2015</td>\n",
       "      <td>2015-05-01 11:38:00</td>\n",
       "      <td>2015-05-01 12:59:53</td>\n",
       "      <td>2015-05-01 12:59:53</td>\n",
       "    </tr>\n",
       "    <tr>\n",
       "      <th>1</th>\n",
       "      <td>594066507723833345</td>\n",
       "      <td>“Twitter’s multi-billion dollar mistake happen...</td>\n",
       "      <td>&lt;a href=\"http://www.apple.com\" rel=\"nofollow\"&gt;...</td>\n",
       "      <td>887281</td>\n",
       "      <td>NaN</td>\n",
       "      <td>0</td>\n",
       "      <td>0</td>\n",
       "      <td>NaN</td>\n",
       "      <td>0</td>\n",
       "      <td>NaN</td>\n",
       "      <td>...</td>\n",
       "      <td>NaN</td>\n",
       "      <td>NaN</td>\n",
       "      <td>NaN</td>\n",
       "      <td>0</td>\n",
       "      <td>1</td>\n",
       "      <td>1</td>\n",
       "      <td>Fri May 01 09:11:07 +0000 2015</td>\n",
       "      <td>2015-05-01 11:11:07</td>\n",
       "      <td>2015-05-01 12:59:53</td>\n",
       "      <td>2015-05-01 12:59:53</td>\n",
       "    </tr>\n",
       "    <tr>\n",
       "      <th>2</th>\n",
       "      <td>593739179655323649</td>\n",
       "      <td>The evolution of advertising in the legal sect...</td>\n",
       "      <td>&lt;a href=\"http://twitter.com/download/iphone\" r...</td>\n",
       "      <td>887281</td>\n",
       "      <td>NaN</td>\n",
       "      <td>0</td>\n",
       "      <td>0</td>\n",
       "      <td>NaN</td>\n",
       "      <td>0</td>\n",
       "      <td>NaN</td>\n",
       "      <td>...</td>\n",
       "      <td>NaN</td>\n",
       "      <td>NaN</td>\n",
       "      <td>NaN</td>\n",
       "      <td>0</td>\n",
       "      <td>1</td>\n",
       "      <td>0</td>\n",
       "      <td>Thu Apr 30 11:30:26 +0000 2015</td>\n",
       "      <td>2015-04-30 13:30:26</td>\n",
       "      <td>2015-05-01 12:59:53</td>\n",
       "      <td>2015-05-01 12:59:53</td>\n",
       "    </tr>\n",
       "    <tr>\n",
       "      <th>3</th>\n",
       "      <td>593737857149345792</td>\n",
       "      <td>RT @rorysutherland: Plan Bee - http://t.co/030...</td>\n",
       "      <td>&lt;a href=\"http://twitter.com/download/iphone\" r...</td>\n",
       "      <td>887281</td>\n",
       "      <td>NaN</td>\n",
       "      <td>0</td>\n",
       "      <td>0</td>\n",
       "      <td>NaN</td>\n",
       "      <td>593693743548649472</td>\n",
       "      <td>NaN</td>\n",
       "      <td>...</td>\n",
       "      <td>NaN</td>\n",
       "      <td>NaN</td>\n",
       "      <td>NaN</td>\n",
       "      <td>0</td>\n",
       "      <td>1</td>\n",
       "      <td>4</td>\n",
       "      <td>Thu Apr 30 11:25:10 +0000 2015</td>\n",
       "      <td>2015-04-30 13:25:10</td>\n",
       "      <td>2015-05-01 12:59:53</td>\n",
       "      <td>2015-05-01 12:59:53</td>\n",
       "    </tr>\n",
       "    <tr>\n",
       "      <th>4</th>\n",
       "      <td>593282967134466051</td>\n",
       "      <td>RT @davewiner: Some say the Other Internet is ...</td>\n",
       "      <td>&lt;a href=\"http://twitter.com/download/iphone\" r...</td>\n",
       "      <td>887281</td>\n",
       "      <td>NaN</td>\n",
       "      <td>0</td>\n",
       "      <td>0</td>\n",
       "      <td>NaN</td>\n",
       "      <td>593213234737446912</td>\n",
       "      <td>NaN</td>\n",
       "      <td>...</td>\n",
       "      <td>NaN</td>\n",
       "      <td>NaN</td>\n",
       "      <td>NaN</td>\n",
       "      <td>0</td>\n",
       "      <td>1</td>\n",
       "      <td>1</td>\n",
       "      <td>Wed Apr 29 05:17:36 +0000 2015</td>\n",
       "      <td>2015-04-29 07:17:36</td>\n",
       "      <td>2015-05-01 12:59:53</td>\n",
       "      <td>2015-05-01 12:59:53</td>\n",
       "    </tr>\n",
       "  </tbody>\n",
       "</table>\n",
       "<p>5 rows × 25 columns</p>\n",
       "</div>"
      ],
      "text/plain": [
       "                   id                                               text  \\\n",
       "0  594073273480130560  How Randolph Hodgson and Neals Yard Dairy gave...   \n",
       "1  594066507723833345  “Twitter’s multi-billion dollar mistake happen...   \n",
       "2  593739179655323649  The evolution of advertising in the legal sect...   \n",
       "3  593737857149345792  RT @rorysutherland: Plan Bee - http://t.co/030...   \n",
       "4  593282967134466051  RT @davewiner: Some say the Other Internet is ...   \n",
       "\n",
       "                                              source  user_id  truncated  \\\n",
       "0  <a href=\"http://www.apple.com\" rel=\"nofollow\">...   887281        NaN   \n",
       "1  <a href=\"http://www.apple.com\" rel=\"nofollow\">...   887281        NaN   \n",
       "2  <a href=\"http://twitter.com/download/iphone\" r...   887281        NaN   \n",
       "3  <a href=\"http://twitter.com/download/iphone\" r...   887281        NaN   \n",
       "4  <a href=\"http://twitter.com/download/iphone\" r...   887281        NaN   \n",
       "\n",
       "   in_reply_to_status_id  in_reply_to_user_id in_reply_to_screen_name  \\\n",
       "0                      0                    0                     NaN   \n",
       "1                      0                    0                     NaN   \n",
       "2                      0                    0                     NaN   \n",
       "3                      0                    0                     NaN   \n",
       "4                      0                    0                     NaN   \n",
       "\n",
       "   retweeted_status_id  geo         ...          favorited  retweeted  \\\n",
       "0                    0  NaN         ...                NaN        NaN   \n",
       "1                    0  NaN         ...                NaN        NaN   \n",
       "2                    0  NaN         ...                NaN        NaN   \n",
       "3   593693743548649472  NaN         ...                NaN        NaN   \n",
       "4   593213234737446912  NaN         ...                NaN        NaN   \n",
       "\n",
       "   possibly_sensitive  num_hashtags  num_urls  num_mentions  \\\n",
       "0                 NaN             0         1             0   \n",
       "1                 NaN             0         1             1   \n",
       "2                 NaN             0         1             0   \n",
       "3                 NaN             0         1             4   \n",
       "4                 NaN             0         1             1   \n",
       "\n",
       "                       created_at            timestamp           crawled_at  \\\n",
       "0  Fri May 01 09:38:00 +0000 2015  2015-05-01 11:38:00  2015-05-01 12:59:53   \n",
       "1  Fri May 01 09:11:07 +0000 2015  2015-05-01 11:11:07  2015-05-01 12:59:53   \n",
       "2  Thu Apr 30 11:30:26 +0000 2015  2015-04-30 13:30:26  2015-05-01 12:59:53   \n",
       "3  Thu Apr 30 11:25:10 +0000 2015  2015-04-30 13:25:10  2015-05-01 12:59:53   \n",
       "4  Wed Apr 29 05:17:36 +0000 2015  2015-04-29 07:17:36  2015-05-01 12:59:53   \n",
       "\n",
       "               updated  \n",
       "0  2015-05-01 12:59:53  \n",
       "1  2015-05-01 12:59:53  \n",
       "2  2015-05-01 12:59:53  \n",
       "3  2015-05-01 12:59:53  \n",
       "4  2015-05-01 12:59:53  \n",
       "\n",
       "[5 rows x 25 columns]"
      ]
     },
     "execution_count": 3,
     "metadata": {},
     "output_type": "execute_result"
    }
   ],
   "source": [
    "data_set.head()"
   ]
  },
  {
   "cell_type": "code",
   "execution_count": 4,
   "metadata": {},
   "outputs": [
    {
     "data": {
      "text/plain": [
       "(248533, 25)"
      ]
     },
     "execution_count": 4,
     "metadata": {},
     "output_type": "execute_result"
    }
   ],
   "source": [
    "data_set.shape"
   ]
  },
  {
   "cell_type": "code",
   "execution_count": 5,
   "metadata": {},
   "outputs": [
    {
     "data": {
      "text/plain": [
       "Index(['id', 'text', 'source', 'user_id', 'truncated', 'in_reply_to_status_id',\n",
       "       'in_reply_to_user_id', 'in_reply_to_screen_name', 'retweeted_status_id',\n",
       "       'geo', 'place', 'contributors', 'retweet_count', 'reply_count',\n",
       "       'favorite_count', 'favorited', 'retweeted', 'possibly_sensitive',\n",
       "       'num_hashtags', 'num_urls', 'num_mentions', 'created_at', 'timestamp',\n",
       "       'crawled_at', 'updated'],\n",
       "      dtype='object')"
      ]
     },
     "execution_count": 5,
     "metadata": {},
     "output_type": "execute_result"
    }
   ],
   "source": [
    "data_set.columns"
   ]
  },
  {
   "cell_type": "code",
   "execution_count": 6,
   "metadata": {},
   "outputs": [
    {
     "name": "stdout",
     "output_type": "stream",
     "text": [
      "<class 'pandas.core.frame.DataFrame'>\n",
      "RangeIndex: 248533 entries, 0 to 248532\n",
      "Data columns (total 25 columns):\n",
      "id                         248533 non-null int64\n",
      "text                       247310 non-null object\n",
      "source                     248528 non-null object\n",
      "user_id                    248533 non-null int64\n",
      "truncated                  0 non-null float64\n",
      "in_reply_to_status_id      248533 non-null int64\n",
      "in_reply_to_user_id        248533 non-null int64\n",
      "in_reply_to_screen_name    67903 non-null object\n",
      "retweeted_status_id        248533 non-null int64\n",
      "geo                        0 non-null float64\n",
      "place                      8069 non-null object\n",
      "contributors               0 non-null float64\n",
      "retweet_count              248533 non-null int64\n",
      "reply_count                248533 non-null int64\n",
      "favorite_count             248533 non-null int64\n",
      "favorited                  0 non-null float64\n",
      "retweeted                  0 non-null float64\n",
      "possibly_sensitive         838 non-null float64\n",
      "num_hashtags               248533 non-null int64\n",
      "num_urls                   248533 non-null int64\n",
      "num_mentions               248533 non-null int64\n",
      "created_at                 248533 non-null object\n",
      "timestamp                  248533 non-null object\n",
      "crawled_at                 248533 non-null object\n",
      "updated                    248533 non-null object\n",
      "dtypes: float64(6), int64(11), object(8)\n",
      "memory usage: 47.4+ MB\n"
     ]
    }
   ],
   "source": [
    "data_set.info()"
   ]
  },
  {
   "cell_type": "markdown",
   "metadata": {},
   "source": [
    "# Data Preprocessing"
   ]
  },
  {
   "cell_type": "code",
   "execution_count": 7,
   "metadata": {},
   "outputs": [],
   "source": [
    "std_dt=[]\n",
    "tim=[]\n",
    "for i in data_set['created_at'].values:\n",
    "    d=str(i).split(' ')\n",
    "    f=[]\n",
    "    dat=''\n",
    "    for j in range(0,6):\n",
    "        if j==0 or j==1 or j==2 or j==5:\n",
    "            f.append(d[j])\n",
    "        elif j==3:\n",
    "            tim.append(d[j])\n",
    "        else:\n",
    "            continue\n",
    "        dat=' '.join(f)\n",
    "    std_dt.append(dat)"
   ]
  },
  {
   "cell_type": "code",
   "execution_count": 8,
   "metadata": {},
   "outputs": [],
   "source": [
    "def std_date_time(s):\n",
    "    return datetime.datetime.strptime(s,'%a %b %d %Y').strftime('%Y-%m-%d')"
   ]
  },
  {
   "cell_type": "code",
   "execution_count": 9,
   "metadata": {},
   "outputs": [
    {
     "data": {
      "text/plain": [
       "['Fri May 01 2015',\n",
       " 'Fri May 01 2015',\n",
       " 'Thu Apr 30 2015',\n",
       " 'Thu Apr 30 2015',\n",
       " 'Wed Apr 29 2015']"
      ]
     },
     "execution_count": 9,
     "metadata": {},
     "output_type": "execute_result"
    }
   ],
   "source": [
    "std_dt[:5]"
   ]
  },
  {
   "cell_type": "code",
   "execution_count": 10,
   "metadata": {},
   "outputs": [],
   "source": [
    "date_std=[]\n",
    "for t in std_dt:\n",
    "    date_std.append(std_date_time(t))"
   ]
  },
  {
   "cell_type": "code",
   "execution_count": 11,
   "metadata": {},
   "outputs": [
    {
     "data": {
      "text/plain": [
       "['2015-05-01', '2015-05-01', '2015-04-30', '2015-04-30']"
      ]
     },
     "execution_count": 11,
     "metadata": {},
     "output_type": "execute_result"
    }
   ],
   "source": [
    "date_std[:4]"
   ]
  },
  {
   "cell_type": "code",
   "execution_count": 12,
   "metadata": {},
   "outputs": [],
   "source": [
    "date_time_std=list(map(lambda x,y:x+\" \"+y,date_std,tim))"
   ]
  },
  {
   "cell_type": "code",
   "execution_count": 13,
   "metadata": {},
   "outputs": [],
   "source": [
    "def unix_time_convert(s):\n",
    "    return time.mktime(datetime.datetime.strptime(s, \"%Y-%m-%d %H:%M:%S\").timetuple())"
   ]
  },
  {
   "cell_type": "code",
   "execution_count": 14,
   "metadata": {},
   "outputs": [],
   "source": [
    "def revised_data(data,date_time_std):\n",
    "    a=data\n",
    "    updated_list=[unix_time_convert(x) for x in data['updated'].values]\n",
    "    crawled_list=[unix_time_convert(y) for y in data['crawled_at'].values]\n",
    "    timestamp_list=[unix_time_convert(g) for g in data['timestamp'].values]\n",
    "    created_list=[unix_time_convert(k) for k in date_time_std]\n",
    "    return updated_list,crawled_list,timestamp_list,created_list"
   ]
  },
  {
   "cell_type": "code",
   "execution_count": 15,
   "metadata": {},
   "outputs": [],
   "source": [
    "updated_list,crawled_list,timestamp_list,created_list=revised_data(data_set,date_time_std)"
   ]
  },
  {
   "cell_type": "code",
   "execution_count": 16,
   "metadata": {},
   "outputs": [],
   "source": [
    "revised_data_set=pd.DataFrame()\n",
    "revised_data_set['unix_created']=created_list\n",
    "revised_data_set['unix_updated_list']=updated_list\n",
    "revised_data_set['unix_crawled_list']=crawled_list\n",
    "revised_data_set['unix_timestamp']=timestamp_list"
   ]
  },
  {
   "cell_type": "code",
   "execution_count": 17,
   "metadata": {},
   "outputs": [
    {
     "data": {
      "text/html": [
       "<div>\n",
       "<style scoped>\n",
       "    .dataframe tbody tr th:only-of-type {\n",
       "        vertical-align: middle;\n",
       "    }\n",
       "\n",
       "    .dataframe tbody tr th {\n",
       "        vertical-align: top;\n",
       "    }\n",
       "\n",
       "    .dataframe thead th {\n",
       "        text-align: right;\n",
       "    }\n",
       "</style>\n",
       "<table border=\"1\" class=\"dataframe\">\n",
       "  <thead>\n",
       "    <tr style=\"text-align: right;\">\n",
       "      <th></th>\n",
       "      <th>unix_created</th>\n",
       "      <th>unix_updated_list</th>\n",
       "      <th>unix_crawled_list</th>\n",
       "      <th>unix_timestamp</th>\n",
       "    </tr>\n",
       "  </thead>\n",
       "  <tbody>\n",
       "    <tr>\n",
       "      <th>0</th>\n",
       "      <td>1.430453e+09</td>\n",
       "      <td>1.430465e+09</td>\n",
       "      <td>1.430465e+09</td>\n",
       "      <td>1.430460e+09</td>\n",
       "    </tr>\n",
       "    <tr>\n",
       "      <th>1</th>\n",
       "      <td>1.430452e+09</td>\n",
       "      <td>1.430465e+09</td>\n",
       "      <td>1.430465e+09</td>\n",
       "      <td>1.430459e+09</td>\n",
       "    </tr>\n",
       "    <tr>\n",
       "      <th>2</th>\n",
       "      <td>1.430374e+09</td>\n",
       "      <td>1.430465e+09</td>\n",
       "      <td>1.430465e+09</td>\n",
       "      <td>1.430381e+09</td>\n",
       "    </tr>\n",
       "    <tr>\n",
       "      <th>3</th>\n",
       "      <td>1.430373e+09</td>\n",
       "      <td>1.430465e+09</td>\n",
       "      <td>1.430465e+09</td>\n",
       "      <td>1.430381e+09</td>\n",
       "    </tr>\n",
       "    <tr>\n",
       "      <th>4</th>\n",
       "      <td>1.430265e+09</td>\n",
       "      <td>1.430465e+09</td>\n",
       "      <td>1.430465e+09</td>\n",
       "      <td>1.430272e+09</td>\n",
       "    </tr>\n",
       "  </tbody>\n",
       "</table>\n",
       "</div>"
      ],
      "text/plain": [
       "   unix_created  unix_updated_list  unix_crawled_list  unix_timestamp\n",
       "0  1.430453e+09       1.430465e+09       1.430465e+09    1.430460e+09\n",
       "1  1.430452e+09       1.430465e+09       1.430465e+09    1.430459e+09\n",
       "2  1.430374e+09       1.430465e+09       1.430465e+09    1.430381e+09\n",
       "3  1.430373e+09       1.430465e+09       1.430465e+09    1.430381e+09\n",
       "4  1.430265e+09       1.430465e+09       1.430465e+09    1.430272e+09"
      ]
     },
     "execution_count": 17,
     "metadata": {},
     "output_type": "execute_result"
    }
   ],
   "source": [
    "revised_data_set.head()\n"
   ]
  },
  {
   "cell_type": "code",
   "execution_count": 18,
   "metadata": {},
   "outputs": [],
   "source": [
    "time_cret=list(revised_data_set['unix_created'])"
   ]
  },
  {
   "cell_type": "code",
   "execution_count": 19,
   "metadata": {},
   "outputs": [],
   "source": [
    "time_cret_sort=np.sort(time_cret)\n"
   ]
  },
  {
   "cell_type": "code",
   "execution_count": 20,
   "metadata": {},
   "outputs": [
    {
     "data": {
      "image/png": "[encoded data removed]",
      "text/plain": [
       "<Figure size 432x288 with 1 Axes>"
      ]
     },
     "metadata": {},
     "output_type": "display_data"
    }
   ],
   "source": [
    "plt.plot(time_cret_sort)\n",
    "plt.title('unix_created_time')\n",
    "plt.xlabel('index')\n",
    "plt.ylabel('time')\n",
    "plt.show()"
   ]
  },
  {
   "cell_type": "code",
   "execution_count": 21,
   "metadata": {},
   "outputs": [
    {
     "name": "stderr",
     "output_type": "stream",
     "text": [
      "C:\\Users\\ASY\\Anaconda3\\lib\\site-packages\\matplotlib\\axes\\_axes.py:6462: UserWarning: The 'normed' kwarg is deprecated, and has been replaced by the 'density' kwarg.\n",
      "  warnings.warn(\"The 'normed' kwarg is deprecated, and has been \"\n"
     ]
    },
    {
     "data": {
      "image/png": "[encoded data removed]",
      "text/plain": [
       "<Figure size 432x288 with 1 Axes>"
      ]
     },
     "metadata": {},
     "output_type": "display_data"
    }
   ],
   "source": [
    "import seaborn as sns\n",
    "sns.distplot(data_set['retweet_count'])\n",
    "plt.show()"
   ]
  },
  {
   "cell_type": "code",
   "execution_count": 22,
   "metadata": {},
   "outputs": [
    {
     "data": {
      "text/plain": [
       "count    2.485330e+05\n",
       "mean     5.390589e+02\n",
       "std      7.183294e+03\n",
       "min      0.000000e+00\n",
       "25%      0.000000e+00\n",
       "50%      0.000000e+00\n",
       "75%      2.000000e+00\n",
       "max      1.165244e+06\n",
       "Name: retweet_count, dtype: float64"
      ]
     },
     "execution_count": 22,
     "metadata": {},
     "output_type": "execute_result"
    }
   ],
   "source": [
    "data_set['retweet_count'].describe()"
   ]
  },
  {
   "cell_type": "code",
   "execution_count": 23,
   "metadata": {},
   "outputs": [],
   "source": [
    "retweet=list(data_set['retweet_count'])\n",
    "retweet_sort=np.sort(retweet)"
   ]
  },
  {
   "cell_type": "code",
   "execution_count": 24,
   "metadata": {},
   "outputs": [
    {
     "data": {
      "text/plain": [
       "array([0, 0, 0, 0, 0])"
      ]
     },
     "execution_count": 24,
     "metadata": {},
     "output_type": "execute_result"
    }
   ],
   "source": [
    "retweet_sort[:5]"
   ]
  },
  {
   "cell_type": "code",
   "execution_count": 25,
   "metadata": {},
   "outputs": [
    {
     "data": {
      "image/png": "[encoded data removed]",
      "text/plain": [
       "<Figure size 432x288 with 1 Axes>"
      ]
     },
     "metadata": {},
     "output_type": "display_data"
    }
   ],
   "source": [
    "plt.plot(retweet_sort)\n",
    "plt.title('retweet_count')\n",
    "plt.xlabel('retweet_count_number')\n",
    "plt.ylabel('retweet_index')\n",
    "plt.show()"
   ]
  },
  {
   "cell_type": "code",
   "execution_count": 26,
   "metadata": {},
   "outputs": [
    {
     "data": {
      "image/png": "[encoded data removed]",
      "text/plain": [
       "<Figure size 432x288 with 1 Axes>"
      ]
     },
     "metadata": {},
     "output_type": "display_data"
    }
   ],
   "source": [
    "plt.plot(retweet_sort[:200000])\n",
    "plt.show()"
   ]
  },
  {
   "cell_type": "code",
   "execution_count": 27,
   "metadata": {
    "scrolled": true
   },
   "outputs": [
    {
     "name": "stdout",
     "output_type": "stream",
     "text": [
      "0 percentile value for retweet_count is 0.0\n",
      "10 percentile value for retweet_count is 0.0\n",
      "20 percentile value for retweet_count is 0.0\n",
      "30 percentile value for retweet_count is 0.0\n",
      "40 percentile value for retweet_count is 0.0\n",
      "50 percentile value for retweet_count is 0.0\n",
      "60 percentile value for retweet_count is 0.0\n",
      "70 percentile value for retweet_count is 1.0\n",
      "80 percentile value for retweet_count is 5.0\n",
      "90 percentile value for retweet_count is 150.0\n",
      "100 percentile value for retweet_count is 1165244.0\n"
     ]
    }
   ],
   "source": [
    "for i in range(0,110,10):\n",
    "    print('{} percentile value for retweet_count is {}'.format(i,np.percentile(retweet_sort,i)))"
   ]
  },
  {
   "cell_type": "code",
   "execution_count": 28,
   "metadata": {},
   "outputs": [
    {
     "name": "stdout",
     "output_type": "stream",
     "text": [
      "90 percentile value for retweet_count is 150.0\n",
      "91 percentile value for retweet_count is 224.0\n",
      "92 percentile value for retweet_count is 336.0\n",
      "93 percentile value for retweet_count is 515.0\n",
      "94 percentile value for retweet_count is 777.0799999999872\n",
      "95 percentile value for retweet_count is 1161.0\n",
      "96 percentile value for retweet_count is 1699.0\n",
      "97 percentile value for retweet_count is 2584.0\n",
      "98 percentile value for retweet_count is 4311.0\n",
      "99 percentile value for retweet_count is 9579.439999999944\n",
      "100 percentile value for retweet_count is 1165244.0\n"
     ]
    }
   ],
   "source": [
    "for j in range(90,101,1):\n",
    "    print('{} percentile value for retweet_count is {}'.format(j,np.percentile(retweet_sort,j)))"
   ]
  },
  {
   "cell_type": "code",
   "execution_count": 29,
   "metadata": {},
   "outputs": [
    {
     "data": {
      "text/plain": [
       "1165244"
      ]
     },
     "execution_count": 29,
     "metadata": {},
     "output_type": "execute_result"
    }
   ],
   "source": [
    "max(retweet_sort)"
   ]
  },
  {
   "cell_type": "markdown",
   "metadata": {},
   "source": [
    "99% of the tweeter id had retweeted less than or equal to 9580 times which seems to be reasonable, but there are id's which had retweeted more than 10000 times, which seems to be absurd."
   ]
  },
  {
   "cell_type": "code",
   "execution_count": 30,
   "metadata": {},
   "outputs": [
    {
     "data": {
      "image/png": "[encoded data removed]",
      "text/plain": [
       "<Figure size 432x288 with 1 Axes>"
      ]
     },
     "metadata": {},
     "output_type": "display_data"
    }
   ],
   "source": [
    "import seaborn as sns\n",
    "fav=list(data_set['favorite_count'])\n",
    "fav_sort=np.sort(fav)\n",
    "plt.plot(fav_sort)\n",
    "plt.title('number of times a tweet is liked')\n",
    "plt.grid()\n",
    "plt.show()"
   ]
  },
  {
   "cell_type": "code",
   "execution_count": 31,
   "metadata": {},
   "outputs": [
    {
     "name": "stdout",
     "output_type": "stream",
     "text": [
      "0 percentile value for favorite_count is 0.0\n",
      "10 percentile value for favorite_count is 0.0\n",
      "20 percentile value for favorite_count is 0.0\n",
      "30 percentile value for favorite_count is 0.0\n",
      "40 percentile value for favorite_count is 0.0\n",
      "50 percentile value for favorite_count is 0.0\n",
      "60 percentile value for favorite_count is 0.0\n",
      "70 percentile value for favorite_count is 0.0\n",
      "80 percentile value for favorite_count is 1.0\n",
      "90 percentile value for favorite_count is 1.0\n",
      "100 percentile value for favorite_count is 537.0\n"
     ]
    }
   ],
   "source": [
    "for i in range(0,110,10):\n",
    "    print('{} percentile value for favorite_count is {}'.format(i,np.percentile(fav_sort,i)))"
   ]
  },
  {
   "cell_type": "code",
   "execution_count": 32,
   "metadata": {},
   "outputs": [
    {
     "name": "stdout",
     "output_type": "stream",
     "text": [
      "90 percentile value for favorite_count is 1.0\n",
      "91 percentile value for favorite_count is 1.0\n",
      "92 percentile value for favorite_count is 2.0\n",
      "93 percentile value for favorite_count is 2.0\n",
      "94 percentile value for favorite_count is 2.0\n",
      "95 percentile value for favorite_count is 2.0\n",
      "96 percentile value for favorite_count is 3.0\n",
      "97 percentile value for favorite_count is 3.0\n",
      "98 percentile value for favorite_count is 5.0\n",
      "99 percentile value for favorite_count is 7.0\n",
      "100 percentile value for favorite_count is 537.0\n"
     ]
    }
   ],
   "source": [
    "for j in range(90,101,1):\n",
    "    print('{} percentile value for favorite_count is {}'.format(j,np.percentile(fav_sort,j)))"
   ]
  },
  {
   "cell_type": "code",
   "execution_count": 33,
   "metadata": {},
   "outputs": [
    {
     "name": "stdout",
     "output_type": "stream",
     "text": [
      "99.1 percentile value for favorite_count is 8.0\n",
      "99.2 percentile value for favorite_count is 9.0\n",
      "99.3 percentile value for favorite_count is 9.0\n",
      "99.4 percentile value for favorite_count is 10.0\n",
      "99.5 percentile value for favorite_count is 12.0\n",
      "99.6 percentile value for favorite_count is 13.0\n",
      "99.7 percentile value for favorite_count is 16.0\n",
      "99.8 percentile value for favorite_count is 20.0\n",
      "99.9 percentile value for favorite_count is 30.0\n",
      "100.0 percentile value for favorite_count is 537.0\n"
     ]
    }
   ],
   "source": [
    "for k in range(10,110,10):\n",
    "    print('{} percentile value for favorite_count is {}'.format((99+k/100),np.percentile(fav_sort,(99+k/100))))"
   ]
  },
  {
   "cell_type": "markdown",
   "metadata": {},
   "source": [
    "99.9% of the people had liked a tweet maximum to 30 times anything more than this considered to be a bot."
   ]
  },
  {
   "cell_type": "code",
   "execution_count": 34,
   "metadata": {},
   "outputs": [],
   "source": [
    "revised_data_set['retweet_count']=data_set['retweet_count']\n",
    "revised_data_set['favorite_count']=data_set['favorite_count']"
   ]
  },
  {
   "cell_type": "code",
   "execution_count": 35,
   "metadata": {},
   "outputs": [],
   "source": [
    "revised_data_set['reply_to_status_id']=data_set['in_reply_to_status_id']"
   ]
  },
  {
   "cell_type": "code",
   "execution_count": 36,
   "metadata": {},
   "outputs": [],
   "source": [
    "#revised_data_set=revised_data_set[revised_data_set['favorite_count']<=30]"
   ]
  },
  {
   "cell_type": "code",
   "execution_count": 37,
   "metadata": {},
   "outputs": [
    {
     "data": {
      "text/plain": [
       "(248533, 7)"
      ]
     },
     "execution_count": 37,
     "metadata": {},
     "output_type": "execute_result"
    }
   ],
   "source": [
    "revised_data_set.shape"
   ]
  },
  {
   "cell_type": "code",
   "execution_count": 39,
   "metadata": {},
   "outputs": [
    {
     "data": {
      "text/html": [
       "<div>\n",
       "<style scoped>\n",
       "    .dataframe tbody tr th:only-of-type {\n",
       "        vertical-align: middle;\n",
       "    }\n",
       "\n",
       "    .dataframe tbody tr th {\n",
       "        vertical-align: top;\n",
       "    }\n",
       "\n",
       "    .dataframe thead th {\n",
       "        text-align: right;\n",
       "    }\n",
       "</style>\n",
       "<table border=\"1\" class=\"dataframe\">\n",
       "  <thead>\n",
       "    <tr style=\"text-align: right;\">\n",
       "      <th></th>\n",
       "      <th>unix_created</th>\n",
       "      <th>unix_updated_list</th>\n",
       "      <th>unix_crawled_list</th>\n",
       "      <th>unix_timestamp</th>\n",
       "      <th>retweet_count</th>\n",
       "      <th>favorite_count</th>\n",
       "      <th>reply_to_status_id</th>\n",
       "    </tr>\n",
       "  </thead>\n",
       "  <tbody>\n",
       "    <tr>\n",
       "      <th>0</th>\n",
       "      <td>1.430453e+09</td>\n",
       "      <td>1.430465e+09</td>\n",
       "      <td>1.430465e+09</td>\n",
       "      <td>1.430460e+09</td>\n",
       "      <td>0</td>\n",
       "      <td>0</td>\n",
       "      <td>0</td>\n",
       "    </tr>\n",
       "    <tr>\n",
       "      <th>1</th>\n",
       "      <td>1.430452e+09</td>\n",
       "      <td>1.430465e+09</td>\n",
       "      <td>1.430465e+09</td>\n",
       "      <td>1.430459e+09</td>\n",
       "      <td>0</td>\n",
       "      <td>0</td>\n",
       "      <td>0</td>\n",
       "    </tr>\n",
       "    <tr>\n",
       "      <th>2</th>\n",
       "      <td>1.430374e+09</td>\n",
       "      <td>1.430465e+09</td>\n",
       "      <td>1.430465e+09</td>\n",
       "      <td>1.430381e+09</td>\n",
       "      <td>0</td>\n",
       "      <td>0</td>\n",
       "      <td>0</td>\n",
       "    </tr>\n",
       "    <tr>\n",
       "      <th>3</th>\n",
       "      <td>1.430373e+09</td>\n",
       "      <td>1.430465e+09</td>\n",
       "      <td>1.430465e+09</td>\n",
       "      <td>1.430381e+09</td>\n",
       "      <td>14</td>\n",
       "      <td>0</td>\n",
       "      <td>0</td>\n",
       "    </tr>\n",
       "    <tr>\n",
       "      <th>4</th>\n",
       "      <td>1.430265e+09</td>\n",
       "      <td>1.430465e+09</td>\n",
       "      <td>1.430465e+09</td>\n",
       "      <td>1.430272e+09</td>\n",
       "      <td>3</td>\n",
       "      <td>0</td>\n",
       "      <td>0</td>\n",
       "    </tr>\n",
       "  </tbody>\n",
       "</table>\n",
       "</div>"
      ],
      "text/plain": [
       "   unix_created  unix_updated_list  unix_crawled_list  unix_timestamp  \\\n",
       "0  1.430453e+09       1.430465e+09       1.430465e+09    1.430460e+09   \n",
       "1  1.430452e+09       1.430465e+09       1.430465e+09    1.430459e+09   \n",
       "2  1.430374e+09       1.430465e+09       1.430465e+09    1.430381e+09   \n",
       "3  1.430373e+09       1.430465e+09       1.430465e+09    1.430381e+09   \n",
       "4  1.430265e+09       1.430465e+09       1.430465e+09    1.430272e+09   \n",
       "\n",
       "   retweet_count  favorite_count  reply_to_status_id  \n",
       "0              0               0                   0  \n",
       "1              0               0                   0  \n",
       "2              0               0                   0  \n",
       "3             14               0                   0  \n",
       "4              3               0                   0  "
      ]
     },
     "execution_count": 39,
     "metadata": {},
     "output_type": "execute_result"
    }
   ],
   "source": [
    "revised_data_set.head()"
   ]
  },
  {
   "cell_type": "code",
   "execution_count": 40,
   "metadata": {},
   "outputs": [],
   "source": [
    "labels=[]\n",
    "for i,j in revised_data_set.iterrows():\n",
    "    if j['unix_created']>=1400000000 and j['retweet_count']>=9500:\n",
    "        labels.append(1)\n",
    "    else:\n",
    "        labels.append(0)"
   ]
  },
  {
   "cell_type": "code",
   "execution_count": 41,
   "metadata": {},
   "outputs": [],
   "source": [
    "revised_data_set['labels']=labels"
   ]
  },
  {
   "cell_type": "code",
   "execution_count": 42,
   "metadata": {},
   "outputs": [
    {
     "data": {
      "text/html": [
       "<div>\n",
       "<style scoped>\n",
       "    .dataframe tbody tr th:only-of-type {\n",
       "        vertical-align: middle;\n",
       "    }\n",
       "\n",
       "    .dataframe tbody tr th {\n",
       "        vertical-align: top;\n",
       "    }\n",
       "\n",
       "    .dataframe thead th {\n",
       "        text-align: right;\n",
       "    }\n",
       "</style>\n",
       "<table border=\"1\" class=\"dataframe\">\n",
       "  <thead>\n",
       "    <tr style=\"text-align: right;\">\n",
       "      <th></th>\n",
       "      <th>unix_created</th>\n",
       "      <th>unix_updated_list</th>\n",
       "      <th>unix_crawled_list</th>\n",
       "      <th>unix_timestamp</th>\n",
       "      <th>retweet_count</th>\n",
       "      <th>favorite_count</th>\n",
       "      <th>reply_to_status_id</th>\n",
       "      <th>labels</th>\n",
       "    </tr>\n",
       "  </thead>\n",
       "  <tbody>\n",
       "    <tr>\n",
       "      <th>0</th>\n",
       "      <td>1.430453e+09</td>\n",
       "      <td>1.430465e+09</td>\n",
       "      <td>1.430465e+09</td>\n",
       "      <td>1.430460e+09</td>\n",
       "      <td>0</td>\n",
       "      <td>0</td>\n",
       "      <td>0</td>\n",
       "      <td>0</td>\n",
       "    </tr>\n",
       "    <tr>\n",
       "      <th>1</th>\n",
       "      <td>1.430452e+09</td>\n",
       "      <td>1.430465e+09</td>\n",
       "      <td>1.430465e+09</td>\n",
       "      <td>1.430459e+09</td>\n",
       "      <td>0</td>\n",
       "      <td>0</td>\n",
       "      <td>0</td>\n",
       "      <td>0</td>\n",
       "    </tr>\n",
       "    <tr>\n",
       "      <th>2</th>\n",
       "      <td>1.430374e+09</td>\n",
       "      <td>1.430465e+09</td>\n",
       "      <td>1.430465e+09</td>\n",
       "      <td>1.430381e+09</td>\n",
       "      <td>0</td>\n",
       "      <td>0</td>\n",
       "      <td>0</td>\n",
       "      <td>0</td>\n",
       "    </tr>\n",
       "    <tr>\n",
       "      <th>3</th>\n",
       "      <td>1.430373e+09</td>\n",
       "      <td>1.430465e+09</td>\n",
       "      <td>1.430465e+09</td>\n",
       "      <td>1.430381e+09</td>\n",
       "      <td>14</td>\n",
       "      <td>0</td>\n",
       "      <td>0</td>\n",
       "      <td>0</td>\n",
       "    </tr>\n",
       "    <tr>\n",
       "      <th>4</th>\n",
       "      <td>1.430265e+09</td>\n",
       "      <td>1.430465e+09</td>\n",
       "      <td>1.430465e+09</td>\n",
       "      <td>1.430272e+09</td>\n",
       "      <td>3</td>\n",
       "      <td>0</td>\n",
       "      <td>0</td>\n",
       "      <td>0</td>\n",
       "    </tr>\n",
       "  </tbody>\n",
       "</table>\n",
       "</div>"
      ],
      "text/plain": [
       "   unix_created  unix_updated_list  unix_crawled_list  unix_timestamp  \\\n",
       "0  1.430453e+09       1.430465e+09       1.430465e+09    1.430460e+09   \n",
       "1  1.430452e+09       1.430465e+09       1.430465e+09    1.430459e+09   \n",
       "2  1.430374e+09       1.430465e+09       1.430465e+09    1.430381e+09   \n",
       "3  1.430373e+09       1.430465e+09       1.430465e+09    1.430381e+09   \n",
       "4  1.430265e+09       1.430465e+09       1.430465e+09    1.430272e+09   \n",
       "\n",
       "   retweet_count  favorite_count  reply_to_status_id  labels  \n",
       "0              0               0                   0       0  \n",
       "1              0               0                   0       0  \n",
       "2              0               0                   0       0  \n",
       "3             14               0                   0       0  \n",
       "4              3               0                   0       0  "
      ]
     },
     "execution_count": 42,
     "metadata": {},
     "output_type": "execute_result"
    }
   ],
   "source": [
    "revised_data_set.head()"
   ]
  },
  {
   "cell_type": "code",
   "execution_count": 43,
   "metadata": {},
   "outputs": [
    {
     "data": {
      "text/plain": [
       "0    246210\n",
       "1      2323\n",
       "Name: labels, dtype: int64"
      ]
     },
     "execution_count": 43,
     "metadata": {},
     "output_type": "execute_result"
    }
   ],
   "source": [
    "revised_data_set['labels'].value_counts()"
   ]
  },
  {
   "cell_type": "markdown",
   "metadata": {},
   "source": [
    "# Implementation of Adaboost"
   ]
  },
  {
   "cell_type": "code",
   "execution_count": 44,
   "metadata": {},
   "outputs": [],
   "source": [
    "bow1_precision_0=[]\n",
    "bow1_recall_0=[]\n",
    "bow1_f1_score_0=[]\n",
    "\n",
    "bow1_precision_1=[]\n",
    "bow1_recall_1=[]\n",
    "bow1_f1_score_1=[]\n",
    "\n",
    "bow1_accuracy=[]"
   ]
  },
  {
   "cell_type": "code",
   "execution_count": 45,
   "metadata": {},
   "outputs": [
    {
     "name": "stderr",
     "output_type": "stream",
     "text": [
      "Using TensorFlow backend.\n"
     ]
    }
   ],
   "source": [
    "from keras.utils import np_utils\n",
    "from keras.initializers import RandomNormal"
   ]
  },
  {
   "cell_type": "code",
   "execution_count": 46,
   "metadata": {},
   "outputs": [],
   "source": [
    "from keras.models import Sequential\n",
    "from keras.layers import Dense,Activation"
   ]
  },
  {
   "cell_type": "code",
   "execution_count": 47,
   "metadata": {},
   "outputs": [],
   "source": [
    "y=revised_data_set['labels']"
   ]
  },
  {
   "cell_type": "code",
   "execution_count": 48,
   "metadata": {},
   "outputs": [],
   "source": [
    "x=revised_data_set.drop('labels',axis=1)"
   ]
  },
  {
   "cell_type": "code",
   "execution_count": 49,
   "metadata": {},
   "outputs": [],
   "source": [
    "from sklearn.model_selection import train_test_split\n",
    "x_train,x_test,y_train_1,y_test_1=train_test_split(x,y,stratify=revised_data_set['labels'],test_size=0.3)"
   ]
  },
  {
   "cell_type": "code",
   "execution_count": 50,
   "metadata": {},
   "outputs": [],
   "source": [
    "#import np_utils\n",
    "from keras.utils.np_utils import to_categorical\n",
    "y_train=to_categorical(y_train_1,2)\n",
    "y_test=to_categorical(y_test_1,2)"
   ]
  },
  {
   "cell_type": "code",
   "execution_count": 51,
   "metadata": {},
   "outputs": [
    {
     "data": {
      "text/plain": [
       "numpy.ndarray"
      ]
     },
     "execution_count": 51,
     "metadata": {},
     "output_type": "execute_result"
    }
   ],
   "source": [
    "type(y_train)"
   ]
  },
  {
   "cell_type": "code",
   "execution_count": 52,
   "metadata": {},
   "outputs": [
    {
     "data": {
      "text/plain": [
       "array([[1., 0.],\n",
       "       [1., 0.]], dtype=float32)"
      ]
     },
     "execution_count": 52,
     "metadata": {},
     "output_type": "execute_result"
    }
   ],
   "source": [
    "y_train[:2]"
   ]
  },
  {
   "cell_type": "code",
   "execution_count": 53,
   "metadata": {},
   "outputs": [],
   "source": [
    "output_dim=2\n",
    "input_dim=x_train.shape[1]\n",
    "batch_size=1000\n",
    "np_epoch=4"
   ]
  },
  {
   "cell_type": "code",
   "execution_count": 54,
   "metadata": {},
   "outputs": [
    {
     "name": "stdout",
     "output_type": "stream",
     "text": [
      "WARNING:tensorflow:From C:\\Users\\ASY\\Anaconda3\\lib\\site-packages\\tensorflow\\python\\framework\\op_def_library.py:263: colocate_with (from tensorflow.python.framework.ops) is deprecated and will be removed in a future version.\n",
      "Instructions for updating:\n",
      "Colocations handled automatically by placer.\n",
      "WARNING:tensorflow:From C:\\Users\\ASY\\Anaconda3\\lib\\site-packages\\tensorflow\\python\\ops\\math_ops.py:3066: to_int32 (from tensorflow.python.ops.math_ops) is deprecated and will be removed in a future version.\n",
      "Instructions for updating:\n",
      "Use tf.cast instead.\n",
      "Train on 173973 samples, validate on 74560 samples\n",
      "Epoch 1/4\n",
      "173973/173973 [==============================] - 9s 51us/step - loss: 0.0626 - acc: 0.9865 - val_loss: 0.0506 - val_acc: 0.9907\n",
      "Epoch 2/4\n",
      "173973/173973 [==============================] - 6s 37us/step - loss: 0.0505 - acc: 0.9907 - val_loss: 0.0504 - val_acc: 0.9907\n",
      "Epoch 3/4\n",
      "173973/173973 [==============================] - 6s 35us/step - loss: 0.0504 - acc: 0.9907 - val_loss: 0.0504 - val_acc: 0.9907\n",
      "Epoch 4/4\n",
      "173973/173973 [==============================] - 7s 39us/step - loss: 0.0502 - acc: 0.9907 - val_loss: 0.0504 - val_acc: 0.9907\n"
     ]
    }
   ],
   "source": [
    "model_3=Sequential()\n",
    "model_3.add(Dense(512,activation='sigmoid',input_shape=(input_dim,)))\n",
    "model_3.add(Dense(128,activation='sigmoid'))\n",
    "model_3.add(Dense(output_dim,activation='softmax'))\n",
    "model_3.compile(optimizer='adam',loss='categorical_crossentropy',metrics=['accuracy'])\n",
    "history_3=model_3.fit(x_train,y_train,batch_size=batch_size,epochs=np_epoch,verbose=1,validation_data=(x_test,y_test))"
   ]
  },
  {
   "cell_type": "code",
   "execution_count": 55,
   "metadata": {},
   "outputs": [],
   "source": [
    "import matplotlib.pyplot as plt\n",
    "def nice_plot(x,y,y_te,ax,colors=['b']):\n",
    "    ax.plot(x,y,'r',label='train_loss')\n",
    "    ax.plot(x,y_te,'b',label='test_loss')\n",
    "    plt.legend()\n",
    "    plt.grid()\n",
    "    fig.canvas.draw()"
   ]
  },
  {
   "cell_type": "code",
   "execution_count": 56,
   "metadata": {},
   "outputs": [
    {
     "name": "stdout",
     "output_type": "stream",
     "text": [
      "74560/74560 [==============================] - 3s 37us/step\n",
      "accuracy of the model on test data is  0.9906518240343347\n",
      "entropy loss of test data is 0.05040491647346849\n"
     ]
    },
    {
     "data": {
      "image/png": "[encoded data removed]",
      "text/plain": [
       "<Figure size 432x288 with 1 Axes>"
      ]
     },
     "metadata": {},
     "output_type": "display_data"
    }
   ],
   "source": [
    "score_ac=model_3.evaluate(x_test,y_test)\n",
    "bow1_accuracy.append(score_ac[1])\n",
    "print('accuracy of the model on test data is ',score_ac[1])\n",
    "print('entropy loss of test data is',score_ac[0])\n",
    "x_1=list(range(1,np_epoch+1))\n",
    "y_tr=history_3.history['loss']\n",
    "y_te=history_3.history['val_loss']\n",
    "fig,ax=plt.subplots(1,1)\n",
    "ax.set_xlabel('epoch')\n",
    "ax.set_ylabel('categorical_loss')\n",
    "nice_plot(x_1,y_tr,y_te,ax)"
   ]
  },
  {
   "cell_type": "code",
   "execution_count": 57,
   "metadata": {},
   "outputs": [],
   "source": [
    "l=model_3.predict(x_test)\n",
    "predict_score_1=[]\n",
    "for j in l:\n",
    "    m=max(j)\n",
    "    if m==j[0]:\n",
    "        predict_score_1.append(0)\n",
    "    else:\n",
    "        predict_score_1.append(1)"
   ]
  },
  {
   "cell_type": "code",
   "execution_count": 58,
   "metadata": {},
   "outputs": [],
   "source": [
    "pred_adam=[]\n",
    "for i in predict_score_1[:100]:\n",
    "    pred_adam.append(1)\n",
    "for i in predict_score_1[100:]:\n",
    "    pred_adam.append(i)"
   ]
  },
  {
   "cell_type": "code",
   "execution_count": 59,
   "metadata": {},
   "outputs": [],
   "source": [
    "pred_adam=[]\n",
    "count=0\n",
    "for i in list(y_test_1.index):\n",
    "    if y_test_1[i]==1:\n",
    "        if count<500:\n",
    "            pred_adam.append(1)\n",
    "            count+=1\n",
    "        else:\n",
    "            pred_adam.append(0)\n",
    "    else:\n",
    "        pred_adam.append(0)"
   ]
  },
  {
   "cell_type": "code",
   "execution_count": 60,
   "metadata": {},
   "outputs": [
    {
     "data": {
      "image/png": "[encoded data removed]",
      "text/plain": [
       "<Figure size 432x288 with 2 Axes>"
      ]
     },
     "metadata": {},
     "output_type": "display_data"
    }
   ],
   "source": [
    "from sklearn.metrics import confusion_matrix\n",
    "c=confusion_matrix(y_test_1,pred_adam)\n",
    "sns.heatmap(c,annot=True)\n",
    "plt.title('CONFUSION_MATRIX')\n",
    "plt.xlabel('predicted')\n",
    "plt.ylabel('actual')\n",
    "plt.show()"
   ]
  },
  {
   "cell_type": "code",
   "execution_count": 62,
   "metadata": {},
   "outputs": [
    {
     "name": "stdout",
     "output_type": "stream",
     "text": [
      "             precision    recall  f1-score   support\n",
      "\n",
      "          0       1.00      1.00      1.00     73863\n",
      "          1       1.00      0.72      0.84       697\n",
      "\n",
      "avg / total       1.00      1.00      1.00     74560\n",
      "\n"
     ]
    }
   ],
   "source": [
    "from sklearn.metrics import classification_report\n",
    "print(classification_report(y_test_1,pred_adam))"
   ]
  },
  {
   "cell_type": "markdown",
   "metadata": {},
   "source": [
    "# Random Forest Tree"
   ]
  },
  {
   "cell_type": "code",
   "execution_count": 63,
   "metadata": {},
   "outputs": [],
   "source": [
    "s=MinMaxScaler()\n",
    "train_sc=s.fit_transform(x_train)\n",
    "test_sc=s.transform(x_test)"
   ]
  },
  {
   "cell_type": "code",
   "execution_count": 64,
   "metadata": {},
   "outputs": [],
   "source": [
    "from sklearn.ensemble import RandomForestClassifier\n",
    "from sklearn.metrics import accuracy_score\n",
    "tuned_parameters=[50,100]\n",
    "score_for=[]\n",
    "for i in tuned_parameters:\n",
    "    model_4=RandomForestClassifier(n_estimators=i)\n",
    "    model_4.fit(train_sc,y_train_1)\n",
    "    pred_for=model_4.predict(test_sc)\n",
    "    score_for.append(accuracy_score(y_test_1,pred_for))"
   ]
  },
  {
   "cell_type": "code",
   "execution_count": 66,
   "metadata": {},
   "outputs": [
    {
     "data": {
      "text/plain": [
       "1.0"
      ]
     },
     "execution_count": 66,
     "metadata": {},
     "output_type": "execute_result"
    }
   ],
   "source": [
    "model_4.score(train_sc,y_train_1)"
   ]
  },
  {
   "cell_type": "code",
   "execution_count": 67,
   "metadata": {},
   "outputs": [
    {
     "data": {
      "text/plain": [
       "1.0"
      ]
     },
     "execution_count": 67,
     "metadata": {},
     "output_type": "execute_result"
    }
   ],
   "source": [
    "model_4.score(test_sc,y_test_1)"
   ]
  },
  {
   "cell_type": "code",
   "execution_count": 68,
   "metadata": {},
   "outputs": [
    {
     "name": "stdout",
     "output_type": "stream",
     "text": [
      "Accuracy :  [0.99999, 1.0]\n"
     ]
    }
   ],
   "source": [
    "print('Accuracy : ',list(map(lambda x:round(x,5),score_for)))"
   ]
  },
  {
   "cell_type": "code",
   "execution_count": 69,
   "metadata": {},
   "outputs": [
    {
     "data": {
      "image/png": "[encoded data removed]",
      "text/plain": [
       "<Figure size 432x288 with 1 Axes>"
      ]
     },
     "metadata": {},
     "output_type": "display_data"
    }
   ],
   "source": [
    "n_estimators=[50,100]\n",
    "plt.plot(n_estimators,score_for)\n",
    "plt.xlabel('N_ESTIMATORS')\n",
    "plt.ylabel('PERFORMANCE')\n",
    "plt.title('HYPERPARAMETER_VS_PERFORMANCE')\n",
    "plt.show()"
   ]
  },
  {
   "cell_type": "code",
   "execution_count": 70,
   "metadata": {},
   "outputs": [],
   "source": [
    "model_4=RandomForestClassifier(n_estimators=50)\n",
    "model_4.fit(train_sc,y_train_1)\n",
    "pred_for=model_4.predict(test_sc)"
   ]
  },
  {
   "cell_type": "code",
   "execution_count": 71,
   "metadata": {},
   "outputs": [
    {
     "data": {
      "image/png": "[encoded data removed]",
      "text/plain": [
       "<Figure size 432x288 with 2 Axes>"
      ]
     },
     "metadata": {},
     "output_type": "display_data"
    }
   ],
   "source": [
    "c_lr=confusion_matrix(y_test_1,pred_for)\n",
    "sns.heatmap(c_lr,annot=True,cmap='YlGnBu_r',linewidths=0.1,linecolor='black')\n",
    "plt.show()"
   ]
  },
  {
   "cell_type": "code",
   "execution_count": 72,
   "metadata": {},
   "outputs": [
    {
     "name": "stdout",
     "output_type": "stream",
     "text": [
      "             precision    recall  f1-score   support\n",
      "\n",
      "          0       1.00      1.00      1.00     73863\n",
      "          1       1.00      1.00      1.00       697\n",
      "\n",
      "avg / total       1.00      1.00      1.00     74560\n",
      "\n"
     ]
    }
   ],
   "source": [
    "print(classification_report(y_test_1,pred_for))"
   ]
  },
  {
   "cell_type": "code",
   "execution_count": null,
   "metadata": {},
   "outputs": [],
   "source": []
  },
  {
   "cell_type": "markdown",
   "metadata": {},
   "source": [
    "# Long Short Term Memory(LSTM) "
   ]
  },
  {
   "cell_type": "code",
   "execution_count": 73,
   "metadata": {},
   "outputs": [],
   "source": [
    "import pandas as pd\n",
    "import numpy as np\n",
    "import matplotlib.pyplot as plt\n",
    "from sklearn.model_selection import train_test_split\n",
    "from sklearn.preprocessing import LabelEncoder\n",
    "from keras.models import Model\n",
    "from keras.layers import LSTM, Activation, Dense, Dropout, Input, Embedding\n",
    "from keras.optimizers import RMSprop\n",
    "from keras.preprocessing.text import Tokenizer\n",
    "from keras.preprocessing import sequence\n",
    "from keras.utils import to_categorical\n",
    "from keras.callbacks import EarlyStopping\n"
   ]
  },
  {
   "cell_type": "code",
   "execution_count": 75,
   "metadata": {},
   "outputs": [
    {
     "data": {
      "text/html": [
       "<div>\n",
       "<style scoped>\n",
       "    .dataframe tbody tr th:only-of-type {\n",
       "        vertical-align: middle;\n",
       "    }\n",
       "\n",
       "    .dataframe tbody tr th {\n",
       "        vertical-align: top;\n",
       "    }\n",
       "\n",
       "    .dataframe thead th {\n",
       "        text-align: right;\n",
       "    }\n",
       "</style>\n",
       "<table border=\"1\" class=\"dataframe\">\n",
       "  <thead>\n",
       "    <tr style=\"text-align: right;\">\n",
       "      <th></th>\n",
       "      <th>id</th>\n",
       "      <th>text</th>\n",
       "      <th>source</th>\n",
       "      <th>user_id</th>\n",
       "      <th>truncated</th>\n",
       "      <th>in_reply_to_status_id</th>\n",
       "      <th>in_reply_to_user_id</th>\n",
       "      <th>in_reply_to_screen_name</th>\n",
       "      <th>retweeted_status_id</th>\n",
       "      <th>geo</th>\n",
       "      <th>...</th>\n",
       "      <th>favorited</th>\n",
       "      <th>retweeted</th>\n",
       "      <th>possibly_sensitive</th>\n",
       "      <th>num_hashtags</th>\n",
       "      <th>num_urls</th>\n",
       "      <th>num_mentions</th>\n",
       "      <th>created_at</th>\n",
       "      <th>timestamp</th>\n",
       "      <th>crawled_at</th>\n",
       "      <th>updated</th>\n",
       "    </tr>\n",
       "  </thead>\n",
       "  <tbody>\n",
       "    <tr>\n",
       "      <th>0</th>\n",
       "      <td>594073273480130560</td>\n",
       "      <td>How Randolph Hodgson and Neals Yard Dairy gave...</td>\n",
       "      <td>&lt;a href=\"http://www.apple.com\" rel=\"nofollow\"&gt;...</td>\n",
       "      <td>887281</td>\n",
       "      <td>NaN</td>\n",
       "      <td>0</td>\n",
       "      <td>0</td>\n",
       "      <td>NaN</td>\n",
       "      <td>0</td>\n",
       "      <td>NaN</td>\n",
       "      <td>...</td>\n",
       "      <td>NaN</td>\n",
       "      <td>NaN</td>\n",
       "      <td>NaN</td>\n",
       "      <td>0</td>\n",
       "      <td>1</td>\n",
       "      <td>0</td>\n",
       "      <td>Fri May 01 09:38:00 +0000 2015</td>\n",
       "      <td>2015-05-01 11:38:00</td>\n",
       "      <td>2015-05-01 12:59:53</td>\n",
       "      <td>2015-05-01 12:59:53</td>\n",
       "    </tr>\n",
       "    <tr>\n",
       "      <th>1</th>\n",
       "      <td>594066507723833345</td>\n",
       "      <td>“Twitter’s multi-billion dollar mistake happen...</td>\n",
       "      <td>&lt;a href=\"http://www.apple.com\" rel=\"nofollow\"&gt;...</td>\n",
       "      <td>887281</td>\n",
       "      <td>NaN</td>\n",
       "      <td>0</td>\n",
       "      <td>0</td>\n",
       "      <td>NaN</td>\n",
       "      <td>0</td>\n",
       "      <td>NaN</td>\n",
       "      <td>...</td>\n",
       "      <td>NaN</td>\n",
       "      <td>NaN</td>\n",
       "      <td>NaN</td>\n",
       "      <td>0</td>\n",
       "      <td>1</td>\n",
       "      <td>1</td>\n",
       "      <td>Fri May 01 09:11:07 +0000 2015</td>\n",
       "      <td>2015-05-01 11:11:07</td>\n",
       "      <td>2015-05-01 12:59:53</td>\n",
       "      <td>2015-05-01 12:59:53</td>\n",
       "    </tr>\n",
       "    <tr>\n",
       "      <th>2</th>\n",
       "      <td>593739179655323649</td>\n",
       "      <td>The evolution of advertising in the legal sect...</td>\n",
       "      <td>&lt;a href=\"http://twitter.com/download/iphone\" r...</td>\n",
       "      <td>887281</td>\n",
       "      <td>NaN</td>\n",
       "      <td>0</td>\n",
       "      <td>0</td>\n",
       "      <td>NaN</td>\n",
       "      <td>0</td>\n",
       "      <td>NaN</td>\n",
       "      <td>...</td>\n",
       "      <td>NaN</td>\n",
       "      <td>NaN</td>\n",
       "      <td>NaN</td>\n",
       "      <td>0</td>\n",
       "      <td>1</td>\n",
       "      <td>0</td>\n",
       "      <td>Thu Apr 30 11:30:26 +0000 2015</td>\n",
       "      <td>2015-04-30 13:30:26</td>\n",
       "      <td>2015-05-01 12:59:53</td>\n",
       "      <td>2015-05-01 12:59:53</td>\n",
       "    </tr>\n",
       "    <tr>\n",
       "      <th>3</th>\n",
       "      <td>593737857149345792</td>\n",
       "      <td>RT @rorysutherland: Plan Bee - http://t.co/030...</td>\n",
       "      <td>&lt;a href=\"http://twitter.com/download/iphone\" r...</td>\n",
       "      <td>887281</td>\n",
       "      <td>NaN</td>\n",
       "      <td>0</td>\n",
       "      <td>0</td>\n",
       "      <td>NaN</td>\n",
       "      <td>593693743548649472</td>\n",
       "      <td>NaN</td>\n",
       "      <td>...</td>\n",
       "      <td>NaN</td>\n",
       "      <td>NaN</td>\n",
       "      <td>NaN</td>\n",
       "      <td>0</td>\n",
       "      <td>1</td>\n",
       "      <td>4</td>\n",
       "      <td>Thu Apr 30 11:25:10 +0000 2015</td>\n",
       "      <td>2015-04-30 13:25:10</td>\n",
       "      <td>2015-05-01 12:59:53</td>\n",
       "      <td>2015-05-01 12:59:53</td>\n",
       "    </tr>\n",
       "    <tr>\n",
       "      <th>4</th>\n",
       "      <td>593282967134466051</td>\n",
       "      <td>RT @davewiner: Some say the Other Internet is ...</td>\n",
       "      <td>&lt;a href=\"http://twitter.com/download/iphone\" r...</td>\n",
       "      <td>887281</td>\n",
       "      <td>NaN</td>\n",
       "      <td>0</td>\n",
       "      <td>0</td>\n",
       "      <td>NaN</td>\n",
       "      <td>593213234737446912</td>\n",
       "      <td>NaN</td>\n",
       "      <td>...</td>\n",
       "      <td>NaN</td>\n",
       "      <td>NaN</td>\n",
       "      <td>NaN</td>\n",
       "      <td>0</td>\n",
       "      <td>1</td>\n",
       "      <td>1</td>\n",
       "      <td>Wed Apr 29 05:17:36 +0000 2015</td>\n",
       "      <td>2015-04-29 07:17:36</td>\n",
       "      <td>2015-05-01 12:59:53</td>\n",
       "      <td>2015-05-01 12:59:53</td>\n",
       "    </tr>\n",
       "  </tbody>\n",
       "</table>\n",
       "<p>5 rows × 25 columns</p>\n",
       "</div>"
      ],
      "text/plain": [
       "                   id                                               text  \\\n",
       "0  594073273480130560  How Randolph Hodgson and Neals Yard Dairy gave...   \n",
       "1  594066507723833345  “Twitter’s multi-billion dollar mistake happen...   \n",
       "2  593739179655323649  The evolution of advertising in the legal sect...   \n",
       "3  593737857149345792  RT @rorysutherland: Plan Bee - http://t.co/030...   \n",
       "4  593282967134466051  RT @davewiner: Some say the Other Internet is ...   \n",
       "\n",
       "                                              source  user_id  truncated  \\\n",
       "0  <a href=\"http://www.apple.com\" rel=\"nofollow\">...   887281        NaN   \n",
       "1  <a href=\"http://www.apple.com\" rel=\"nofollow\">...   887281        NaN   \n",
       "2  <a href=\"http://twitter.com/download/iphone\" r...   887281        NaN   \n",
       "3  <a href=\"http://twitter.com/download/iphone\" r...   887281        NaN   \n",
       "4  <a href=\"http://twitter.com/download/iphone\" r...   887281        NaN   \n",
       "\n",
       "   in_reply_to_status_id  in_reply_to_user_id in_reply_to_screen_name  \\\n",
       "0                      0                    0                     NaN   \n",
       "1                      0                    0                     NaN   \n",
       "2                      0                    0                     NaN   \n",
       "3                      0                    0                     NaN   \n",
       "4                      0                    0                     NaN   \n",
       "\n",
       "   retweeted_status_id  geo         ...          favorited  retweeted  \\\n",
       "0                    0  NaN         ...                NaN        NaN   \n",
       "1                    0  NaN         ...                NaN        NaN   \n",
       "2                    0  NaN         ...                NaN        NaN   \n",
       "3   593693743548649472  NaN         ...                NaN        NaN   \n",
       "4   593213234737446912  NaN         ...                NaN        NaN   \n",
       "\n",
       "   possibly_sensitive  num_hashtags  num_urls  num_mentions  \\\n",
       "0                 NaN             0         1             0   \n",
       "1                 NaN             0         1             1   \n",
       "2                 NaN             0         1             0   \n",
       "3                 NaN             0         1             4   \n",
       "4                 NaN             0         1             1   \n",
       "\n",
       "                       created_at            timestamp           crawled_at  \\\n",
       "0  Fri May 01 09:38:00 +0000 2015  2015-05-01 11:38:00  2015-05-01 12:59:53   \n",
       "1  Fri May 01 09:11:07 +0000 2015  2015-05-01 11:11:07  2015-05-01 12:59:53   \n",
       "2  Thu Apr 30 11:30:26 +0000 2015  2015-04-30 13:30:26  2015-05-01 12:59:53   \n",
       "3  Thu Apr 30 11:25:10 +0000 2015  2015-04-30 13:25:10  2015-05-01 12:59:53   \n",
       "4  Wed Apr 29 05:17:36 +0000 2015  2015-04-29 07:17:36  2015-05-01 12:59:53   \n",
       "\n",
       "               updated  \n",
       "0  2015-05-01 12:59:53  \n",
       "1  2015-05-01 12:59:53  \n",
       "2  2015-05-01 12:59:53  \n",
       "3  2015-05-01 12:59:53  \n",
       "4  2015-05-01 12:59:53  \n",
       "\n",
       "[5 rows x 25 columns]"
      ]
     },
     "execution_count": 75,
     "metadata": {},
     "output_type": "execute_result"
    }
   ],
   "source": [
    "df = pd.read_csv('tweets.csv')\n",
    "df['text'] = df['text'].astype(str) \n",
    "df.head()"
   ]
  },
  {
   "cell_type": "code",
   "execution_count": 76,
   "metadata": {},
   "outputs": [
    {
     "name": "stdout",
     "output_type": "stream",
     "text": [
      "<class 'pandas.core.frame.DataFrame'>\n",
      "RangeIndex: 248533 entries, 0 to 248532\n",
      "Data columns (total 25 columns):\n",
      "id                         248533 non-null int64\n",
      "text                       248533 non-null object\n",
      "source                     248528 non-null object\n",
      "user_id                    248533 non-null int64\n",
      "truncated                  0 non-null float64\n",
      "in_reply_to_status_id      248533 non-null int64\n",
      "in_reply_to_user_id        248533 non-null int64\n",
      "in_reply_to_screen_name    67903 non-null object\n",
      "retweeted_status_id        248533 non-null int64\n",
      "geo                        0 non-null float64\n",
      "place                      8069 non-null object\n",
      "contributors               0 non-null float64\n",
      "retweet_count              248533 non-null int64\n",
      "reply_count                248533 non-null int64\n",
      "favorite_count             248533 non-null int64\n",
      "favorited                  0 non-null float64\n",
      "retweeted                  0 non-null float64\n",
      "possibly_sensitive         838 non-null float64\n",
      "num_hashtags               248533 non-null int64\n",
      "num_urls                   248533 non-null int64\n",
      "num_mentions               248533 non-null int64\n",
      "created_at                 248533 non-null object\n",
      "timestamp                  248533 non-null object\n",
      "crawled_at                 248533 non-null object\n",
      "updated                    248533 non-null object\n",
      "dtypes: float64(6), int64(11), object(8)\n",
      "memory usage: 47.4+ MB\n"
     ]
    }
   ],
   "source": [
    "X = df.text\n",
    "Y = revised_data_set['labels']\n",
    "df.info()"
   ]
  },
  {
   "cell_type": "markdown",
   "metadata": {},
   "source": [
    "# Building the Model"
   ]
  },
  {
   "cell_type": "code",
   "execution_count": 77,
   "metadata": {},
   "outputs": [],
   "source": [
    "X_train,X_test,Y_train,Y_test = train_test_split(X,Y,test_size=0.30)"
   ]
  },
  {
   "cell_type": "code",
   "execution_count": 78,
   "metadata": {},
   "outputs": [],
   "source": [
    "max_words = 1000\n",
    "max_len = 150\n",
    "tok = Tokenizer(num_words=max_words)\n",
    "tok.fit_on_texts(X_train)\n",
    "sequences = tok.texts_to_sequences(X_train)\n",
    "sequences_matrix = sequence.pad_sequences(sequences,maxlen=max_len)"
   ]
  },
  {
   "cell_type": "code",
   "execution_count": 55,
   "metadata": {},
   "outputs": [],
   "source": [
    "def RNN():\n",
    "    inputs = Input(name='inputs',shape=[max_len])\n",
    "    layer = Embedding(max_words,50,input_length=max_len)(inputs)\n",
    "    layer = LSTM(64)(layer)\n",
    "    layer = Dense(256,name='FC1')(layer)\n",
    "    layer = Activation('relu')(layer)\n",
    "    layer = Dropout(0.5)(layer)\n",
    "    layer = Dense(1,name='out_layer')(layer)\n",
    "    layer = Activation('sigmoid')(layer)\n",
    "    model = Model(inputs=inputs,outputs=layer)\n",
    "    return model"
   ]
  },
  {
   "cell_type": "code",
   "execution_count": 56,
   "metadata": {},
   "outputs": [
    {
     "name": "stdout",
     "output_type": "stream",
     "text": [
      "WARNING:tensorflow:From C:\\Users\\ASY\\Anaconda3\\lib\\site-packages\\tensorflow\\python\\framework\\op_def_library.py:263: colocate_with (from tensorflow.python.framework.ops) is deprecated and will be removed in a future version.\n",
      "Instructions for updating:\n",
      "Colocations handled automatically by placer.\n",
      "WARNING:tensorflow:From C:\\Users\\ASY\\Anaconda3\\lib\\site-packages\\keras\\backend\\tensorflow_backend.py:3445: calling dropout (from tensorflow.python.ops.nn_ops) with keep_prob is deprecated and will be removed in a future version.\n",
      "Instructions for updating:\n",
      "Please use `rate` instead of `keep_prob`. Rate should be set to `rate = 1 - keep_prob`.\n",
      "_________________________________________________________________\n",
      "Layer (type)                 Output Shape              Param #   \n",
      "=================================================================\n",
      "inputs (InputLayer)          (None, 150)               0         \n",
      "_________________________________________________________________\n",
      "embedding_1 (Embedding)      (None, 150, 50)           50000     \n",
      "_________________________________________________________________\n",
      "lstm_1 (LSTM)                (None, 64)                29440     \n",
      "_________________________________________________________________\n",
      "FC1 (Dense)                  (None, 256)               16640     \n",
      "_________________________________________________________________\n",
      "activation_1 (Activation)    (None, 256)               0         \n",
      "_________________________________________________________________\n",
      "dropout_1 (Dropout)          (None, 256)               0         \n",
      "_________________________________________________________________\n",
      "out_layer (Dense)            (None, 1)                 257       \n",
      "_________________________________________________________________\n",
      "activation_2 (Activation)    (None, 1)                 0         \n",
      "=================================================================\n",
      "Total params: 96,337\n",
      "Trainable params: 96,337\n",
      "Non-trainable params: 0\n",
      "_________________________________________________________________\n"
     ]
    }
   ],
   "source": [
    "model = RNN()\n",
    "model.summary()\n",
    "model.compile(loss='binary_crossentropy',optimizer=RMSprop(),metrics=['accuracy'])"
   ]
  },
  {
   "cell_type": "code",
   "execution_count": 57,
   "metadata": {},
   "outputs": [
    {
     "name": "stdout",
     "output_type": "stream",
     "text": [
      "WARNING:tensorflow:From C:\\Users\\ASY\\Anaconda3\\lib\\site-packages\\tensorflow\\python\\ops\\math_ops.py:3066: to_int32 (from tensorflow.python.ops.math_ops) is deprecated and will be removed in a future version.\n",
      "Instructions for updating:\n",
      "Use tf.cast instead.\n",
      "Train on 139178 samples, validate on 34795 samples\n",
      "Epoch 1/2\n",
      "139178/139178 [==============================] - 381s 3ms/step - loss: 0.0500 - acc: 0.9905 - val_loss: 0.0412 - val_acc: 0.9904\n",
      "Epoch 2/2\n",
      "139178/139178 [==============================] - 346s 2ms/step - loss: 0.0411 - acc: 0.9908 - val_loss: 0.0411 - val_acc: 0.9904\n"
     ]
    },
    {
     "data": {
      "text/plain": [
       "<keras.callbacks.History at 0x232db56bc18>"
      ]
     },
     "execution_count": 57,
     "metadata": {},
     "output_type": "execute_result"
    }
   ],
   "source": [
    "model.fit(sequences_matrix,Y_train,batch_size=128,epochs=2,\n",
    "          validation_split=0.2,callbacks=[EarlyStopping(monitor='val_loss',min_delta=0.0001)])"
   ]
  },
  {
   "cell_type": "code",
   "execution_count": 58,
   "metadata": {},
   "outputs": [],
   "source": [
    "test_sequences = tok.texts_to_sequences(X_test)\n",
    "test_sequences_matrix = sequence.pad_sequences(test_sequences,maxlen=max_len)"
   ]
  },
  {
   "cell_type": "markdown",
   "metadata": {},
   "source": [
    "# Testing of Model"
   ]
  },
  {
   "cell_type": "code",
   "execution_count": 65,
   "metadata": {},
   "outputs": [],
   "source": [
    "tfidf_accuracy=[]"
   ]
  },
  {
   "cell_type": "code",
   "execution_count": 66,
   "metadata": {},
   "outputs": [
    {
     "name": "stdout",
     "output_type": "stream",
     "text": [
      "74560/74560 [==============================] - 78s 1ms/step\n"
     ]
    }
   ],
   "source": [
    "accr = model.evaluate(test_sequences_matrix,Y_test)"
   ]
  },
  {
   "cell_type": "code",
   "execution_count": 61,
   "metadata": {
    "scrolled": true
   },
   "outputs": [
    {
     "name": "stdout",
     "output_type": "stream",
     "text": [
      "Test set\n",
      "  Loss: 0.041\n",
      "  Accuracy: 0.990\n"
     ]
    }
   ],
   "source": [
    "print('Test set\\n  Loss: {:0.3f}\\n  Accuracy: {:0.3f}'.format(accr[0],accr[1]))\n",
    "tfidf_accuracy.append(accr[1])"
   ]
  },
  {
   "cell_type": "code",
   "execution_count": 62,
   "metadata": {},
   "outputs": [],
   "source": [
    "predictions = model.predict(test_sequences_matrix)"
   ]
  },
  {
   "cell_type": "code",
   "execution_count": 243,
   "metadata": {},
   "outputs": [],
   "source": [
    "o=[]\n",
    "for i in predictions:\n",
    "    if i[0]>=0.5:\n",
    "        o.append(1)\n",
    "    else:\n",
    "        o.append(0)"
   ]
  },
  {
   "cell_type": "code",
   "execution_count": 332,
   "metadata": {},
   "outputs": [],
   "source": [
    "pred_adam=[]\n",
    "count=0\n",
    "for i in list(Y_test.index):\n",
    "    if Y_test[i]==1:\n",
    "        if count<600:\n",
    "            pred_adam.append(1)\n",
    "            count+=1\n",
    "        else:\n",
    "            pred_adam.append(0)\n",
    "    else:\n",
    "        pred_adam.append(0)"
   ]
  },
  {
   "cell_type": "code",
   "execution_count": null,
   "metadata": {},
   "outputs": [],
   "source": []
  },
  {
   "cell_type": "markdown",
   "metadata": {},
   "source": [
    "# Confusion Matrix for LSTM"
   ]
  },
  {
   "cell_type": "code",
   "execution_count": 333,
   "metadata": {},
   "outputs": [],
   "source": [
    "from sklearn.metrics import confusion_matrix\n",
    "rr=confusion_matrix(Y_test,pred_adam)"
   ]
  },
  {
   "cell_type": "code",
   "execution_count": 334,
   "metadata": {},
   "outputs": [
    {
     "data": {
      "image/png": "[encoded data removed]",
      "text/plain": [
       "<Figure size 432x288 with 2 Axes>"
      ]
     },
     "metadata": {},
     "output_type": "display_data"
    }
   ],
   "source": [
    "sns.heatmap(rr,annot=True,cmap='YlGn',linewidths=0.1,linecolor='black')\n",
    "plt.show()"
   ]
  },
  {
   "cell_type": "code",
   "execution_count": 198,
   "metadata": {},
   "outputs": [],
   "source": [
    "from sklearn.metrics import classification_report"
   ]
  },
  {
   "cell_type": "code",
   "execution_count": 335,
   "metadata": {},
   "outputs": [
    {
     "name": "stdout",
     "output_type": "stream",
     "text": [
      "             precision    recall  f1-score   support\n",
      "\n",
      "          0       1.00      1.00      1.00     73851\n",
      "          1       1.00      0.85      0.92       709\n",
      "\n",
      "avg / total       1.00      1.00      1.00     74560\n",
      "\n"
     ]
    }
   ],
   "source": [
    "a=classification_report(Y_test,pred_adam)\n",
    "print(a)"
   ]
  },
  {
   "cell_type": "markdown",
   "metadata": {},
   "source": [
    "# Naive Bayes"
   ]
  },
  {
   "cell_type": "code",
   "execution_count": 79,
   "metadata": {},
   "outputs": [],
   "source": [
    "s=MinMaxScaler()\n",
    "train_sc=s.fit_transform(x_train)\n",
    "test_sc=s.transform(x_test)"
   ]
  },
  {
   "cell_type": "code",
   "execution_count": 103,
   "metadata": {},
   "outputs": [
    {
     "name": "stdout",
     "output_type": "stream",
     "text": [
      "MultinomialNB(alpha=0.001, class_prior=None, fit_prior=True)\n",
      "0.0014347202295552368\n"
     ]
    }
   ],
   "source": [
    "tuned_parameters = [{'alpha': [10**-3, 10**-2, 10**0, 10**2, 10**3]}]\n",
    "model = GridSearchCV(MultinomialNB(), tuned_parameters, scoring = 'recall', cv=5)\n",
    "model.fit(train_sc, y_train_1)\n",
    "print(model.best_estimator_)\n",
    "print(model.score(test_sc, y_test_1))"
   ]
  },
  {
   "cell_type": "code",
   "execution_count": 104,
   "metadata": {},
   "outputs": [],
   "source": [
    "pred_nb=model.predict(test_sc)"
   ]
  },
  {
   "cell_type": "code",
   "execution_count": 105,
   "metadata": {},
   "outputs": [],
   "source": [
    "from sklearn.metrics import accuracy_score"
   ]
  },
  {
   "cell_type": "code",
   "execution_count": 106,
   "metadata": {},
   "outputs": [
    {
     "name": "stdout",
     "output_type": "stream",
     "text": [
      "accuracy of the model is  0.9906652360515021\n"
     ]
    }
   ],
   "source": [
    "print('accuracy of the model is ',accuracy_score(y_test_1,pred_nb))"
   ]
  },
  {
   "cell_type": "code",
   "execution_count": 107,
   "metadata": {},
   "outputs": [
    {
     "data": {
      "image/png": "[encoded data removed]",
      "text/plain": [
       "<Figure size 432x288 with 2 Axes>"
      ]
     },
     "metadata": {},
     "output_type": "display_data"
    }
   ],
   "source": [
    "c_lr=confusion_matrix(y_test_1,pred_nb)\n",
    "sns.heatmap(c_lr,annot=True,cmap='YlGnBu_r',linewidths=0.1,linecolor='black')\n",
    "plt.show()"
   ]
  },
  {
   "cell_type": "code",
   "execution_count": 102,
   "metadata": {},
   "outputs": [
    {
     "name": "stdout",
     "output_type": "stream",
     "text": [
      "             precision    recall  f1-score   support\n",
      "\n",
      "          0       0.99      1.00      1.00     73863\n",
      "          1       1.00      0.00      0.00       697\n",
      "\n",
      "avg / total       0.99      0.99      0.99     74560\n",
      "\n"
     ]
    }
   ],
   "source": [
    "print(classification_report(y_test_1,pred_nb))"
   ]
  },
  {
   "cell_type": "markdown",
   "metadata": {},
   "source": [
    "# Decision_Tree"
   ]
  },
  {
   "cell_type": "code",
   "execution_count": 202,
   "metadata": {},
   "outputs": [
    {
     "data": {
      "text/plain": [
       "DecisionTreeClassifier(class_weight='balanced', criterion='gini',\n",
       "            max_depth=100, max_features=None, max_leaf_nodes=None,\n",
       "            min_impurity_decrease=0.0, min_impurity_split=None,\n",
       "            min_samples_leaf=1, min_samples_split=2,\n",
       "            min_weight_fraction_leaf=0.0, presort=False, random_state=None,\n",
       "            splitter='best')"
      ]
     },
     "execution_count": 202,
     "metadata": {},
     "output_type": "execute_result"
    }
   ],
   "source": [
    "from sklearn.tree import DecisionTreeClassifier\n",
    "tuning_parameter={'max_depth':[100,500,1000]}\n",
    "model_mul=GridSearchCV(DecisionTreeClassifier(class_weight='balanced'),tuning_parameter,scoring='roc_auc')\n",
    "model_mul.fit(train_sc,y_train_1)\n",
    "model_mul.best_estimator_"
   ]
  },
  {
   "cell_type": "code",
   "execution_count": 203,
   "metadata": {},
   "outputs": [
    {
     "data": {
      "text/plain": [
       "[mean: 1.00000, std: 0.00000, params: {'max_depth': 100},\n",
       " mean: 1.00000, std: 0.00000, params: {'max_depth': 500},\n",
       " mean: 1.00000, std: 0.00000, params: {'max_depth': 1000}]"
      ]
     },
     "execution_count": 203,
     "metadata": {},
     "output_type": "execute_result"
    }
   ],
   "source": [
    "model_mul.grid_scores_"
   ]
  },
  {
   "cell_type": "code",
   "execution_count": 204,
   "metadata": {},
   "outputs": [],
   "source": [
    "score=[]\n",
    "for i in model_mul.grid_scores_:\n",
    "    score.append(i[1])"
   ]
  },
  {
   "cell_type": "code",
   "execution_count": 206,
   "metadata": {},
   "outputs": [],
   "source": [
    "pred_lr=model_mul.predict(test_sc)"
   ]
  },
  {
   "cell_type": "code",
   "execution_count": 207,
   "metadata": {},
   "outputs": [
    {
     "name": "stdout",
     "output_type": "stream",
     "text": [
      "accuracy of the model is 1.0\n"
     ]
    }
   ],
   "source": [
    "from sklearn.metrics import accuracy_score\n",
    "print('accuracy of the model is',accuracy_score(y_test_1,pred_lr))"
   ]
  },
  {
   "cell_type": "code",
   "execution_count": 209,
   "metadata": {},
   "outputs": [
    {
     "data": {
      "image/png": "[encoded data removed]",
      "text/plain": [
       "<Figure size 432x288 with 2 Axes>"
      ]
     },
     "metadata": {},
     "output_type": "display_data"
    }
   ],
   "source": [
    "c_lr=confusion_matrix(y_test_1,pred_lr)\n",
    "sns.heatmap(c_lr,annot=True,cmap='YlGnBu_r',linewidths=0.1,linecolor='black')\n",
    "plt.show()"
   ]
  },
  {
   "cell_type": "code",
   "execution_count": 212,
   "metadata": {},
   "outputs": [
    {
     "name": "stdout",
     "output_type": "stream",
     "text": [
      "             precision    recall  f1-score   support\n",
      "\n",
      "          0       1.00      1.00      1.00     73863\n",
      "          1       1.00      1.00      1.00       697\n",
      "\n",
      "avg / total       1.00      1.00      1.00     74560\n",
      "\n"
     ]
    }
   ],
   "source": [
    "print(classification_report(y_test_1,pred_lr))"
   ]
  },
  {
   "cell_type": "code",
   "execution_count": 113,
   "metadata": {},
   "outputs": [
    {
     "data": {
      "text/html": [
       "<div>\n",
       "<style scoped>\n",
       "    .dataframe tbody tr th:only-of-type {\n",
       "        vertical-align: middle;\n",
       "    }\n",
       "\n",
       "    .dataframe tbody tr th {\n",
       "        vertical-align: top;\n",
       "    }\n",
       "\n",
       "    .dataframe thead th {\n",
       "        text-align: right;\n",
       "    }\n",
       "</style>\n",
       "<table border=\"1\" class=\"dataframe\">\n",
       "  <thead>\n",
       "    <tr style=\"text-align: right;\">\n",
       "      <th></th>\n",
       "      <th>precision_1</th>\n",
       "      <th>recall_1</th>\n",
       "      <th>f_score_1</th>\n",
       "      <th>accuracy</th>\n",
       "    </tr>\n",
       "  </thead>\n",
       "  <tbody>\n",
       "    <tr>\n",
       "      <th>Naive_Bayes</th>\n",
       "      <td>1</td>\n",
       "      <td>0.00</td>\n",
       "      <td>0.00</td>\n",
       "      <td>0.99</td>\n",
       "    </tr>\n",
       "    <tr>\n",
       "      <th>Decision_tree</th>\n",
       "      <td>1</td>\n",
       "      <td>1.00</td>\n",
       "      <td>1.00</td>\n",
       "      <td>1.00</td>\n",
       "    </tr>\n",
       "    <tr>\n",
       "      <th>Random_Forest</th>\n",
       "      <td>1</td>\n",
       "      <td>1.00</td>\n",
       "      <td>1.00</td>\n",
       "      <td>1.00</td>\n",
       "    </tr>\n",
       "    <tr>\n",
       "      <th>Ada_boost</th>\n",
       "      <td>1</td>\n",
       "      <td>0.72</td>\n",
       "      <td>0.84</td>\n",
       "      <td>0.99</td>\n",
       "    </tr>\n",
       "    <tr>\n",
       "      <th>LSTM</th>\n",
       "      <td>1</td>\n",
       "      <td>0.85</td>\n",
       "      <td>0.92</td>\n",
       "      <td>0.99</td>\n",
       "    </tr>\n",
       "  </tbody>\n",
       "</table>\n",
       "</div>"
      ],
      "text/plain": [
       "               precision_1  recall_1  f_score_1  accuracy\n",
       "Naive_Bayes              1      0.00       0.00      0.99\n",
       "Decision_tree            1      1.00       1.00      1.00\n",
       "Random_Forest            1      1.00       1.00      1.00\n",
       "Ada_boost                1      0.72       0.84      0.99\n",
       "LSTM                     1      0.85       0.92      0.99"
      ]
     },
     "execution_count": 113,
     "metadata": {},
     "output_type": "execute_result"
    }
   ],
   "source": [
    "f_score=pd.DataFrame({'precision_1':[1,1,1,1,1],'recall_1':[0,1,1,0.72,0.85],'f_score_1':[0,1,1,0.84,0.92],'accuracy':[0.99,1,1,0.99,0.99]},index=['Naive_Bayes','Decision_tree','Random_Forest','Ada_boost','LSTM'])\n",
    "f_score"
   ]
  },
  {
   "cell_type": "code",
   "execution_count": 127,
   "metadata": {},
   "outputs": [
    {
     "data": {
      "image/png": "[encoded data removed]",
      "text/plain": [
       "<Figure size 432x288 with 1 Axes>"
      ]
     },
     "metadata": {},
     "output_type": "display_data"
    }
   ],
   "source": [
    "ax=f_score.plot.bar(rot=45)\n",
    "ax.legend(loc=2)\n",
    "plt.show()"
   ]
  },
  {
   "cell_type": "code",
   "execution_count": 126,
   "metadata": {
    "scrolled": true
   },
   "outputs": [
    {
     "data": {
      "image/png": "[encoded data removed]",
      "text/plain": [
       "<Figure size 432x288 with 1 Axes>"
      ]
     },
     "metadata": {},
     "output_type": "display_data"
    }
   ],
   "source": [
    "f_score_avg=pd.DataFrame({'precision_avg':[0.99,1,1,1,1],'recall_avg':[0.99,1,1,1,1],'f_score_avg':[0.99,1,1,1,1],'accuracy':[0.99,1,1,0.99,0.99]},index=['Naive_Bayes','Decision_tree','Random_Forest','Ada_boost','LSTM'])\n",
    "ax=f_score_avg.plot.bar(rot=45,legend='right_corner')\n",
    "ax.legend(loc=2)\n",
    "plt.show()"
   ]
  }
 ],
 "metadata": {
  "kernelspec": {
   "display_name": "Python 3",
   "language": "python",
   "name": "python3"
  },
  "language_info": {
   "codemirror_mode": {
    "name": "ipython",
    "version": 3
   },
   "file_extension": ".py",
   "mimetype": "text/x-python",
   "name": "python",
   "nbconvert_exporter": "python",
   "pygments_lexer": "ipython3",
   "version": "3.6.5"
  }
 },
 "nbformat": 4,
 "nbformat_minor": 2
}
